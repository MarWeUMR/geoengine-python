{
 "cells": [
  {
   "cell_type": "markdown",
   "metadata": {},
   "source": [
    "# Load raster data via WMS"
   ]
  },
  {
   "cell_type": "code",
   "execution_count": null,
   "metadata": {},
   "outputs": [],
   "source": [
    "from datetime import datetime\n",
    "\n",
    "import geoengine as ge"
   ]
  },
  {
   "cell_type": "markdown",
   "metadata": {},
   "source": [
    "## Initialize Geo Engine"
   ]
  },
  {
   "cell_type": "code",
   "execution_count": null,
   "metadata": {},
   "outputs": [],
   "source": [
    "ge.initialize(\"http://localhost:3030\")"
   ]
  },
  {
   "cell_type": "code",
   "execution_count": null,
   "metadata": {},
   "outputs": [],
   "source": [
    "session = ge.get_session()\n",
    "session"
   ]
  },
  {
   "cell_type": "markdown",
   "metadata": {},
   "source": [
    "## Define workflow of MODIS NDVI raster"
   ]
  },
  {
   "cell_type": "code",
   "execution_count": null,
   "metadata": {},
   "outputs": [],
   "source": [
    "workflow = ge.register_workflow({\n",
    "\t\"type\": \"MachineLearning\",\n",
    "\t\"operator\": {\n",
    "\t\t\"type\": \"XgboostTrainingOperator\",\n",
    "\t\t\"params\": {\n",
    "\t\t\t\"modelStorePath\": \"data\",\n",
    "            \"noDataValue\": -1000.,\n",
    "            \"params\": {\n",
    "                \"n_estimators\": \"1\"\n",
    "            }\n",
    "\t\t},\n",
    "\t\t \"sources\": {\n",
    "            \"source\": [\n",
    "                {\n",
    "                \"type\": \"GdalSource\",\n",
    "                \"params\": {\n",
    "                    \"data\": {\n",
    "                        \"type\": \"internal\",\n",
    "                        \"datasetId\": \"9ee3619e-d0f9-4ced-9c44-3d407c3aed69\"\n",
    "                    }\n",
    "                }\n",
    "            },\n",
    "                {\n",
    "                \"type\": \"GdalSource\",\n",
    "                \"params\": {\n",
    "                    \"data\": {\n",
    "                        \"type\": \"internal\",\n",
    "                        \"datasetId\": \"9ee3619e-d0f9-4ced-9c44-3d407c3aed69\"\n",
    "                    }\n",
    "                }\n",
    "            },\n",
    "                {\n",
    "                \"type\": \"GdalSource\",\n",
    "                \"params\": {\n",
    "                    \"data\": {\n",
    "                        \"type\": \"internal\",\n",
    "                        \"datasetId\": \"9ee3619e-d0f9-4ced-9c44-3d407c3aed69\"\n",
    "                    }\n",
    "                }\n",
    "            }\n",
    "            ]\n",
    "        },\n",
    "            },\n",
    "})\n",
    "    \n",
    "workflow"
   ]
  },
  {
   "cell_type": "code",
   "execution_count": null,
   "metadata": {},
   "outputs": [],
   "source": [
    "workflow.get_result_descriptor()"
   ]
  },
  {
   "cell_type": "markdown",
   "metadata": {},
   "source": [
    "## Load plot via API and display with Vega"
   ]
  },
  {
   "cell_type": "code",
   "execution_count": null,
   "metadata": {},
   "outputs": [],
   "source": [
    "time = datetime.strptime(\n",
    "    '2014-04-01T12:00:00.000Z', \"%Y-%m-%dT%H:%M:%S.%f%z\")\n",
    "\n",
    "workflow.train_model(\n",
    "    ge.QueryRectangle(\n",
    "        [-180.0, -90.0, 180.0, 90.0],\n",
    "        [time, time]\n",
    "        )\n",
    ")"
   ]
  },
  {
   "cell_type": "code",
   "execution_count": null,
   "metadata": {},
   "outputs": [],
   "source": []
  }
 ],
 "metadata": {
  "kernelspec": {
   "display_name": "Python 3 (ipykernel)",
   "language": "python",
   "name": "python3"
  },
  "language_info": {
   "codemirror_mode": {
    "name": "ipython",
    "version": 3
   },
   "file_extension": ".py",
   "mimetype": "text/x-python",
   "name": "python",
   "nbconvert_exporter": "python",
   "pygments_lexer": "ipython3",
   "version": "3.9.16"
  },
  "vscode": {
   "interpreter": {
    "hash": "57a0e3c66d2ff7dd4bacaff2df1356daf162e23ba6dea60141bac5abb51bfe45"
   }
  }
 },
 "nbformat": 4,
 "nbformat_minor": 4
}
